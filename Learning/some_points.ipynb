{
 "cells": [
  {
   "cell_type": "markdown",
   "metadata": {},
   "source": [
    "# Use Case\n",
    "- Image Classification: SVM is used to classify images into different categories.\n",
    "- Text Classification: SVM is effective in text categorization tasks such as spam detection, sentiment analysis, and topic categorization.\n",
    "- Bioinformatics: SVM is used for protein classification and gene expression data analysis.\n",
    "- Handwriting Recognition: SVM is employed to recognize handwritten characters.\n",
    "- Financial Analysis: SVM is applied in credit risk analysis, fraud detection, and stock market prediction."
   ]
  },
  {
   "cell_type": "markdown",
   "metadata": {},
   "source": [
    "# Application Areas\n",
    "- Healthcare: Disease prediction and diagnosis, medical image analysis.\n",
    "- Finance: Credit scoring, fraud detection, algorithmic trading.\n",
    "- Marketing: Customer segmentation, churn prediction.\n",
    "- Manufacturing: Fault detection, quality control.\n",
    "- Social Media: Sentiment analysis, spam filtering."
   ]
  },
  {
   "cell_type": "markdown",
   "metadata": {},
   "source": [
    "# Advantages\n",
    "- Effective in High-Dimensional Spaces: SVM works well when the number of dimensions exceeds the number of samples.\n",
    "- Memory Efficient: SVM only uses a subset of training points (support vectors) in the decision function.\n",
    "- Versatile: Different kernel functions can be specified for the decision function, providing flexibility in handling different data structures.\n",
    "- Robust to Overfitting: With proper regularization, SVM can avoid overfitting, especially in high-dimensional spaces."
   ]
  },
  {
   "cell_type": "markdown",
   "metadata": {},
   "source": [
    "# Disadvantages\n",
    "- Computationally Intensive: Training an SVM can be time-consuming for large datasets, especially with complex kernel functions.\n",
    "- Choice of Kernel: The performance of SVM heavily depends on the choice of the kernel and its parameters, which require careful tuning.\n",
    "- Not Suitable for Large Datasets: SVMs are not suitable for very large datasets due to their high training time and memory consumption.\n",
    "- Interpretability: SVM models are less interpretable compared to some other models like decision trees or logistic regression."
   ]
  },
  {
   "cell_type": "markdown",
   "metadata": {},
   "source": [
    "# Sample Implementations"
   ]
  },
  {
   "cell_type": "code",
   "execution_count": 1,
   "metadata": {},
   "outputs": [
    {
     "name": "stdout",
     "output_type": "stream",
     "text": [
      "[[19  0  0]\n",
      " [ 0 13  0]\n",
      " [ 0  0 13]]\n",
      "              precision    recall  f1-score   support\n",
      "\n",
      "           0       1.00      1.00      1.00        19\n",
      "           1       1.00      1.00      1.00        13\n",
      "           2       1.00      1.00      1.00        13\n",
      "\n",
      "    accuracy                           1.00        45\n",
      "   macro avg       1.00      1.00      1.00        45\n",
      "weighted avg       1.00      1.00      1.00        45\n",
      "\n"
     ]
    }
   ],
   "source": [
    "from sklearn import datasets\n",
    "from sklearn.model_selection import train_test_split\n",
    "from sklearn.preprocessing import StandardScaler\n",
    "from sklearn.svm import SVC\n",
    "from sklearn.metrics import classification_report, confusion_matrix\n",
    "\n",
    "# Load dataset\n",
    "iris = datasets.load_iris()\n",
    "X = iris.data\n",
    "y = iris.target\n",
    "\n",
    "# Split data into training and test sets\n",
    "X_train, X_test, y_train, y_test = train_test_split(X, y, test_size=0.3, random_state=42)\n",
    "\n",
    "# Feature scaling\n",
    "scaler = StandardScaler()\n",
    "X_train = scaler.fit_transform(X_train)\n",
    "X_test = scaler.transform(X_test)\n",
    "\n",
    "# Train SVM model\n",
    "svm = SVC(kernel='rbf', C=1, gamma=0.1)\n",
    "svm.fit(X_train, y_train)\n",
    "\n",
    "# Predict on test data\n",
    "y_pred = svm.predict(X_test)\n",
    "\n",
    "# Evaluate the model\n",
    "print(confusion_matrix(y_test, y_pred))\n",
    "print(classification_report(y_test, y_pred))\n"
   ]
  },
  {
   "cell_type": "markdown",
   "metadata": {},
   "source": [
    "# Metrics Used for Evaluating SVM Classifier"
   ]
  },
  {
   "cell_type": "markdown",
   "metadata": {},
   "source": [
    "## Confusion Matrix\n",
    "\n",
    "- Definition: A confusion matrix is a table used to evaluate the performance of a classification model. It shows the counts of true positive (TP), - false positive (FP), true negative (TN), and false negative (FN) predictions.\n",
    "\n",
    "- Importance: Provides a comprehensive view of the performance of a classification model, including both correct and incorrect predictions.\n",
    "\n",
    "- Ideal Values: High values of TP and TN, and low values of FP and FN.\n",
    "\n",
    "- Value Range: The values are non-negative integers, depending on the dataset size.\n",
    "\n",
    "Interpretation:\n",
    "- True Positives (TP): Correctly predicted positive cases.\n",
    "- False Positives (FP): Incorrectly predicted positive cases.\n",
    "- True Negatives (TN): Correctly predicted negative cases.\n",
    "-  False Negatives (FN): Incorrectly predicted negative cases.\n",
    "\n",
    "When to Use: Always use the confusion matrix for classification problems to get a detailed understanding of the model's performance.\n",
    "\n"
   ]
  },
  {
   "cell_type": "code",
   "execution_count": 2,
   "metadata": {},
   "outputs": [
    {
     "name": "stdout",
     "output_type": "stream",
     "text": [
      "[[19  0  0]\n",
      " [ 0 13  0]\n",
      " [ 0  0 13]]\n"
     ]
    }
   ],
   "source": [
    "from sklearn.metrics import confusion_matrix\n",
    "\n",
    "y_pred = svm.predict(X_test)\n",
    "cm = confusion_matrix(y_test, y_pred)\n",
    "print(cm)\n"
   ]
  },
  {
   "cell_type": "markdown",
   "metadata": {},
   "source": [
    "## Accuracy\n",
    "- Definition: The ratio of correctly predicted observations to the total observations.\n",
    "- Accuracy=TP+TN/TP+TN+FP+FN\n",
    "- Importance: Provides an overall measure of how well the model is performing.\n",
    "- Ideal Value: Close to 1 (100%).\n",
    "- Value Range: [0, 1]\n",
    "\n",
    "Interpretation: Indicates the proportion of correct predictions out of all predictions made.\n",
    "\n",
    "When to Use: Use when the dataset is balanced or the cost of false positives and false negatives is similar."
   ]
  },
  {
   "cell_type": "code",
   "execution_count": 3,
   "metadata": {},
   "outputs": [
    {
     "name": "stdout",
     "output_type": "stream",
     "text": [
      "Accuracy: 1.0\n"
     ]
    }
   ],
   "source": [
    "from sklearn.metrics import accuracy_score\n",
    "\n",
    "accuracy = accuracy_score(y_test, y_pred)\n",
    "print(f\"Accuracy: {accuracy}\")\n"
   ]
  },
  {
   "cell_type": "markdown",
   "metadata": {},
   "source": [
    "## Precision\n",
    "- Definition: The ratio of correctly predicted positive observations to the total predicted positives.\n",
    "- Precision=TP/TP+FP\n",
    "- Importance: Indicates the accuracy of positive predictions.\n",
    "- Ideal Value: Close to 1 (100%).\n",
    "- Value Range: [0, 1]\n",
    "\n",
    "Interpretation: High precision indicates that the model has a low false positive rate.\n",
    "\n",
    "When to Use: Use when the cost of false positives is high (e.g., spam detection)."
   ]
  },
  {
   "cell_type": "code",
   "execution_count": 4,
   "metadata": {},
   "outputs": [
    {
     "name": "stdout",
     "output_type": "stream",
     "text": [
      "Precision: 1.0\n"
     ]
    }
   ],
   "source": [
    "from sklearn.metrics import precision_score\n",
    "\n",
    "precision = precision_score(y_test, y_pred, average='macro')\n",
    "print(f\"Precision: {precision}\")\n"
   ]
  },
  {
   "cell_type": "markdown",
   "metadata": {},
   "source": [
    "## Recall (Sensitivity or True Positive Rate)\n",
    "- Definition: The ratio of correctly predicted positive observations to all the observations in the actual class.\n",
    "- Recall=TP/TP+FN\n",
    "- Importance: Indicates the ability of the model to find all relevant cases within a dataset.\n",
    "- Ideal Value: Close to 1 (100%).\n",
    "- Value Range: [0, 1]\n",
    "Interpretation: High recall indicates that the model has a low false negative rate.\n",
    "\n",
    "When to Use: Use when the cost of false negatives is high (e.g., disease detection)."
   ]
  },
  {
   "cell_type": "code",
   "execution_count": 5,
   "metadata": {},
   "outputs": [
    {
     "name": "stdout",
     "output_type": "stream",
     "text": [
      "Recall: 1.0\n"
     ]
    }
   ],
   "source": [
    "from sklearn.metrics import recall_score\n",
    "\n",
    "recall = recall_score(y_test, y_pred, average='macro')\n",
    "print(f\"Recall: {recall}\")\n"
   ]
  },
  {
   "cell_type": "markdown",
   "metadata": {},
   "source": [
    "##  F1-Score\n",
    "\n",
    "- Definition: The weighted average of precision and recall.\n",
    "- F1-Score=2⋅Precision⋅RecallPrecision+Recall\n",
    "- F1-Score=2⋅Precision+RecallPrecision⋅Recall​\n",
    "\n",
    "- Importance: Provides a single metric that balances precision and recall, especially useful for imbalanced datasets.\n",
    "\n",
    "- Ideal Value: Close to 1 (100%).\n",
    "\n",
    "- Value Range: [0, 1]\n",
    "\n",
    "Interpretation: High F1-score indicates a good balance between precision and recall.\n",
    "\n",
    "When to Use: Use when both precision and recall are important for the problem at hand."
   ]
  },
  {
   "cell_type": "code",
   "execution_count": 8,
   "metadata": {},
   "outputs": [
    {
     "name": "stdout",
     "output_type": "stream",
     "text": [
      "F1-Score: 1.0\n"
     ]
    }
   ],
   "source": [
    "from sklearn.metrics import f1_score\n",
    "\n",
    "f1 = f1_score(y_test, y_pred, average='macro')\n",
    "print(f\"F1-Score: {f1}\")\n"
   ]
  },
  {
   "cell_type": "markdown",
   "metadata": {},
   "source": [
    "## ROC Curve and AUC (Area Under the Curve)\n",
    "\n",
    "- Definition: The ROC curve plots the true positive rate (recall) against the false positive rate (1-specificity) at various threshold settings. AUC measures the entire two-dimensional area underneath the ROC curve.\n",
    "\n",
    "- Importance: Provides a graphical representation of the model's performance across all classification thresholds.\n",
    "\n",
    "- Ideal Value: AUC close to 1 (100%).\n",
    "\n",
    "- Value Range: [0, 1]\n",
    "\n",
    "Interpretation: The closer the ROC curve is to the top-left corner, the better the model. A higher AUC indicates better overall performance.\n",
    "\n",
    "When to Use: Use when you need to evaluate the model's ability to distinguish between positive and negative classes across all thresholds.\n"
   ]
  },
  {
   "cell_type": "markdown",
   "metadata": {},
   "source": [
    "the ROC curve and AUC are not directly applicable to multi-class classification problems. They are designed for binary classification. For multi-class problems, you can use strategies like One-vs-Rest (OvR) or One-vs-One (OvO) to compute ROC curves and AUC scores for each class separately. \n",
    "I'll provide a corrected implementation for evaluating an SVM classifier on the Iris dataset using the ROC curve and AUC score with the One-vs-Rest strategy.\n",
    "\n"
   ]
  },
  {
   "cell_type": "markdown",
   "metadata": {},
   "source": [
    "# Hyperparameters in SVM classifier"
   ]
  },
  {
   "cell_type": "markdown",
   "metadata": {},
   "source": [
    "## C (Regularization Parameter)\n",
    "- Definition: The regularization parameter CC controls the trade-off between maximizing the margin and minimizing the classification error. A smaller CC encourages a larger margin, while a larger CC aims to classify all training examples correctly.\n",
    "- Importance: Balances the model complexity and the extent of misclassification on the training data.\n",
    "- Ideal Value: Depends on the dataset; typically found using cross-validation.\n",
    "- Value Range: C>0\n",
    "Interpretation:\n",
    "- Small CC: Larger margin, possibly more misclassifications.\n",
    "- Large CC: Smaller margin, fewer misclassifications, but may overfit.\n",
    "\n",
    "When to Use: Always tune CC to find a balance between bias and variance."
   ]
  },
  {
   "cell_type": "code",
   "execution_count": 17,
   "metadata": {},
   "outputs": [
    {
     "name": "stdout",
     "output_type": "stream",
     "text": [
      "Best C: 1\n"
     ]
    }
   ],
   "source": [
    "from sklearn.svm import SVC\n",
    "from sklearn.model_selection import GridSearchCV\n",
    "\n",
    "param_grid = {'C': [0.1, 1, 10, 100, 1000]}\n",
    "grid_search = GridSearchCV(SVC(kernel='rbf', gamma=0.1), param_grid, cv=5)\n",
    "grid_search.fit(X_train, y_train)\n",
    "print(f\"Best C: {grid_search.best_params_['C']}\")\n"
   ]
  },
  {
   "attachments": {
    "image.png": {
     "image/png": "[encoded data removed]"
    }
   },
   "cell_type": "markdown",
   "metadata": {},
   "source": [
    "## Kernel Type\n",
    "- Definition: The kernel function transforms the input data into a higher-dimensional space to find a linear separator.\n",
    "- Importance: Determines the shape of the decision boundary.\n",
    "- Common Kernels:\n",
    "![image.png](attachment:image.png)\n",
    "- Ideal Value: Depends on the dataset and the problem.\n",
    "Interpretation:\n",
    "- Linear: Best for linearly separable data.\n",
    "- Polynomial and RBF: Best for non-linearly separable data.\n",
    "- Sigmoid: Can be used but is less common.\n",
    "\n",
    "When to Use: Experiment with different kernels and use cross-validation to select the best one."
   ]
  },
  {
   "cell_type": "code",
   "execution_count": 19,
   "metadata": {},
   "outputs": [
    {
     "name": "stdout",
     "output_type": "stream",
     "text": [
      "Best kernel: rbf\n"
     ]
    }
   ],
   "source": [
    "param_grid = {'kernel': ['linear', 'poly', 'rbf', 'sigmoid']} # rbf generally used\n",
    "grid_search = GridSearchCV(SVC(C=1, gamma=0.1), param_grid, cv=5)\n",
    "grid_search.fit(X_train, y_train)\n",
    "print(f\"Best kernel: {grid_search.best_params_['kernel']}\")\n"
   ]
  },
  {
   "cell_type": "markdown",
   "metadata": {},
   "source": [
    "## Gamma (Kernel Coefficient for RBF, Polynomial, and Sigmoid Kernels)\n",
    "- Definition: Defines how far the influence of a single training example reaches. Low values mean 'far' and high values mean 'close'.\n",
    "\n",
    "- Importance: Affects the decision boundary shape.\n",
    "\n",
    "- Ideal Value: Depends on the dataset; typically found using cross-validation.\n",
    "\n",
    "- Value Range: γ>0\n",
    "Interpretation:\n",
    "- Low gamma: The model is too constrained and has a high bias.\n",
    "- High gamma: The model captures more details but may overfit.\n",
    "\n",
    "When to Use: Always tune γγ for non-linear kernels like RBF."
   ]
  },
  {
   "cell_type": "code",
   "execution_count": 20,
   "metadata": {},
   "outputs": [
    {
     "name": "stdout",
     "output_type": "stream",
     "text": [
      "Best gamma: 0.1\n"
     ]
    }
   ],
   "source": [
    "param_grid = {'gamma': [1, 0.1, 0.01, 0.001, 0.0001]}\n",
    "grid_search = GridSearchCV(SVC(kernel='rbf', C=1), param_grid, cv=5)\n",
    "grid_search.fit(X_train, y_train)\n",
    "print(f\"Best gamma: {grid_search.best_params_['gamma']}\")\n"
   ]
  },
  {
   "cell_type": "markdown",
   "metadata": {},
   "source": [
    "## Degree (for Polynomial Kernel)\n",
    "- Definition: Degree of the polynomial kernel function.\n",
    "- Importance: Controls the flexibility of the polynomial kernel.\n",
    "- Ideal Value: Typically a small integer; found using cross-validation.\n",
    "- Value Range: degree≥1degree≥1\n",
    "\n",
    "Interpretation:\n",
    "- Low degree: Simpler decision boundary.\n",
    "- High degree: More complex decision boundary, risk of overfitting.\n",
    "\n",
    "When to Use: Only relevant for the polynomial kernel. Tune using cross-validation."
   ]
  },
  {
   "cell_type": "code",
   "execution_count": 21,
   "metadata": {},
   "outputs": [
    {
     "name": "stdout",
     "output_type": "stream",
     "text": [
      "Best degree: 3\n"
     ]
    }
   ],
   "source": [
    "param_grid = {'degree': [2, 3, 4, 5]}\n",
    "grid_search = GridSearchCV(SVC(kernel='poly', C=1, gamma=0.1), param_grid, cv=5)\n",
    "grid_search.fit(X_train, y_train)\n",
    "print(f\"Best degree: {grid_search.best_params_['degree']}\")\n"
   ]
  },
  {
   "cell_type": "markdown",
   "metadata": {},
   "source": [
    "## Coef0 (for Polynomial and Sigmoid Kernels)\n",
    "\n",
    "- Definition: Independent term in kernel function. It is significant in controlling the influence of higher-order versus lower-order terms in the polynomial and sigmoid kernels.\n",
    "\n",
    "- Importance: Adjusts the model complexity for polynomial and sigmoid kernels.\n",
    "\n",
    "- Ideal Value: Typically found using cross-validation.\n",
    "\n",
    "- Value Range: Any real number.\n",
    "\n",
    "Interpretation:\n",
    "\n",
    "- Low coef0: Less influence of higher-order terms.\n",
    "- High coef0: More influence of higher-order terms.\n",
    "\n",
    "When to Use: Tune for polynomial and sigmoid kernels."
   ]
  },
  {
   "cell_type": "code",
   "execution_count": 22,
   "metadata": {},
   "outputs": [
    {
     "name": "stdout",
     "output_type": "stream",
     "text": [
      "Best coef0: 1\n"
     ]
    }
   ],
   "source": [
    "param_grid = {'coef0': [0, 0.1, 0.5, 1, 2]}\n",
    "grid_search = GridSearchCV(SVC(kernel='poly', C=1, gamma=0.1, degree=3), param_grid, cv=5)\n",
    "grid_search.fit(X_train, y_train)\n",
    "print(f\"Best coef0: {grid_search.best_params_['coef0']}\")\n"
   ]
  },
  {
   "cell_type": "markdown",
   "metadata": {},
   "source": [
    "## Probability\n",
    "\n",
    "- Definition: Whether to enable probability estimates.\n",
    "\n",
    "- Importance: Useful if you need probability estimates for your classification problem.\n",
    "\n",
    "- Ideal Value: True or False.\n",
    "\n",
    "- Value Range: True or False.\n",
    "\n",
    "Interpretation: Enables the model to output probability estimates. Adds computational overhead.\n",
    "\n",
    "When to Use: When you need probability estimates for your predictions."
   ]
  },
  {
   "cell_type": "code",
   "execution_count": 23,
   "metadata": {},
   "outputs": [],
   "source": [
    "svm = SVC(C=1, gamma=0.1, probability=True)\n",
    "svm.fit(X_train, y_train)\n",
    "y_pred_prob = svm.predict_proba(X_test)\n"
   ]
  },
  {
   "cell_type": "markdown",
   "metadata": {},
   "source": [
    "Summary\n",
    "\n",
    "Selecting and tuning hyperparameters for SVM is crucial for model performance. Use cross-validation to find the optimal values for:\n",
    "\n",
    "- C (Regularization Parameter): Balances margin maximization and misclassification minimization.\n",
    "- Kernel Type: Determines the transformation of input data into a higher-dimensional space.\n",
    "- Gamma (for RBF, Polynomial, and Sigmoid Kernels): Controls the influence radius of training examples.\n",
    "- Degree (for Polynomial Kernel): Sets the degree of the polynomial kernel function.\n",
    "- Coef0 (for Polynomial and Sigmoid Kernels): Adjusts the influence of higher-order terms.\n",
    "- Probability: Enables probability estimates for predictions.\n",
    "\n",
    "By systematically tuning these hyperparameters, you can improve the performance and robustness of your SVM model."
   ]
  },
  {
   "cell_type": "markdown",
   "metadata": {},
   "source": [
    "# SVM in Regression mode"
   ]
  },
  {
   "cell_type": "code",
   "execution_count": 25,
   "metadata": {},
   "outputs": [
    {
     "name": "stdout",
     "output_type": "stream",
     "text": [
      "Mean Squared Error: 0.3575335619549484\n"
     ]
    }
   ],
   "source": [
    "from sklearn.datasets import fetch_california_housing\n",
    "from sklearn.model_selection import train_test_split\n",
    "from sklearn.svm import SVR\n",
    "from sklearn.metrics import mean_squared_error\n",
    "from sklearn.preprocessing import StandardScaler\n",
    "\n",
    "# Load dataset\n",
    "california_housing = fetch_california_housing()\n",
    "X = california_housing.data\n",
    "y = california_housing.target\n",
    "\n",
    "# Split data into training and test sets\n",
    "X_train, X_test, y_train, y_test = train_test_split(X, y, test_size=0.3, random_state=42)\n",
    "\n",
    "# Feature Scaling\n",
    "scaler = StandardScaler()\n",
    "X_train = scaler.fit_transform(X_train)\n",
    "X_test = scaler.transform(X_test)\n",
    "\n",
    "# Train SVR model\n",
    "svr = SVR(kernel='rbf', C=1, gamma=0.1, epsilon=0.1)\n",
    "svr.fit(X_train, y_train)\n",
    "\n",
    "# Predict on test data\n",
    "y_pred = svr.predict(X_test)\n",
    "\n",
    "# Evaluate the model\n",
    "mse = mean_squared_error(y_test, y_pred)\n",
    "print(f\"Mean Squared Error: {mse}\")\n"
   ]
  },
  {
   "cell_type": "markdown",
   "metadata": {},
   "source": [
    "# Metrics used in Regressor"
   ]
  },
  {
   "attachments": {
    "image-2.png": {
     "image/png": "[encoded data removed]"
    },
    "image-3.png": {
     "image/png": "[encoded data removed]"
    },
    "image-4.png": {
     "image/png": "[encoded data removed]"
    },
    "image-5.png": {
     "image/png": "[encoded data removed]"
    },
    "image.png": {
     "image/png": "[encoded data removed]"
    }
   },
   "cell_type": "markdown",
   "metadata": {},
   "source": [
    "Sure, here's a detailed explanation of all the metrics for evaluating an SVM regressor, similar to your example for a confusion matrix:\n",
    "1. Mean Squared Error (MSE)\n",
    "\n",
    "- Definition: MSE measures the average of the squares of the errors—that is, the average squared difference between the actual values and the predicted values.\n",
    "\n",
    "![image.png](attachment:image.png)\n",
    "\n",
    "- Importance: MSE gives a sense of the average magnitude of errors made by the model. It is sensitive to outliers due to the squaring of errors.\n",
    "\n",
    "- Ideal Values: An MSE close to 0 indicates a perfect fit.\n",
    "\n",
    "- Value Range: [0, ∞)\n",
    "\n",
    "Interpretation:\n",
    "    - Lower MSE: Indicates a better fit of the model to the data.\n",
    "    - Higher MSE: Indicates a worse fit, with more significant errors.\n",
    "\n",
    "- When to Use: Use MSE when you want to penalize larger errors more significantly due to the squaring of the errors.\n",
    "\n",
    "2. Mean Absolute Error (MAE)\n",
    "\n",
    "- Definition: MAE measures the average of the absolute errors—that is, the average absolute difference between the actual values and the predicted values.\n",
    "    \n",
    "    ![image-2.png](attachment:image-2.png)\n",
    "\n",
    "- Importance: MAE gives a sense of the average magnitude of errors made by the model without squaring them, making it less sensitive to outliers than MSE.\n",
    "\n",
    "- Ideal Values: An MAE close to 0 indicates a perfect fit.\n",
    "\n",
    "- Value Range: [0, ∞)\n",
    "\n",
    "Interpretation:\n",
    "- Lower MAE: Indicates a better fit of the model to the data.\n",
    "- Higher MAE: Indicates a worse fit, with more significant errors.\n",
    "\n",
    "When to Use: Use MAE when you want to treat all errors equally, regardless of their magnitude.\n",
    "\n",
    "3. Root Mean Squared Error (RMSE)\n",
    "\n",
    "- Definition: RMSE is the square root of the MSE. It gives an estimate of the standard deviation of the errors.\n",
    "  \n",
    "![image-3.png](attachment:image-3.png)\n",
    "    ​\n",
    "- Importance: RMSE provides an error metric in the same units as the target variable, making it easier to interpret.\n",
    "\n",
    "- Ideal Values: An RMSE close to 0 indicates a perfect fit.\n",
    "\n",
    "- Value Range: [0, ∞)\n",
    "\n",
    "- Interpretation:\n",
    "    - Lower RMSE: Indicates a better fit of the model to the data.\n",
    "    - Higher RMSE: Indicates a worse fit, with more significant errors.\n",
    "\n",
    "- When to Use: Use RMSE when you want an error metric in the same units as the target variable.\n",
    "\n",
    "4. R-squared (Coefficient of Determination)\n",
    "\n",
    "- Definition: R-squared measures the proportion of the variance in the dependent variable that is predictable from the independent variables.\n",
    "    \n",
    "![image-4.png](attachment:image-4.png)\n",
    "\n",
    "- Importance: R-squared provides a measure of how well the observed outcomes are replicated by the model, based on the proportion of total variation explained by the model.\n",
    "\n",
    "- Ideal Values: An R-squared close to 1 indicates a perfect fit.\n",
    "\n",
    "- Value Range: [0, 1] for a model that fits better than the mean, can be negative for models that fit worse than the mean.\n",
    "\n",
    "- Interpretation:\n",
    "- Higher R-squared: Indicates a better fit of the model to the data.\n",
    "- Lower R-squared: Indicates a worse fit, with less variance explained by the model.\n",
    "\n",
    "- When to Use: Use R-squared to understand the proportion of variance explained by the model.\n",
    "\n",
    "5. Adjusted R-squared\n",
    "\n",
    "- Definition: Adjusted R-squared adjusts the R-squared value based on the number of predictors in the model, accounting for the degrees of freedom.\n",
    "    \n",
    "    ![image-5.png](attachment:image-5.png)\n",
    "\n",
    "    where n is the number of observations and k is the number of predictors.\n",
    "\n",
    "- Importance: Adjusted R-squared provides a more accurate measure of the goodness-of-fit for models with multiple predictors by penalizing the addition of irrelevant variables.\n",
    "\n",
    "- Ideal Values: An adjusted R-squared close to 1 indicates a perfect fit.\n",
    "\n",
    "- Value Range: [0, 1] for a model that fits better than the mean, can be negative for models that fit worse than the mean.\n",
    "\n",
    "- Interpretation:\n",
    "    - Higher Adjusted R-squared: Indicates a better fit of the model to the data.\n",
    "    - Lower Adjusted R-squared: Indicates a worse fit, with less variance explained by the model after adjusting for the number of predictors.\n",
    "\n",
    "- When to Use: Use adjusted R-squared when comparing models with a different number of predictors."
   ]
  },
  {
   "cell_type": "code",
   "execution_count": 27,
   "metadata": {},
   "outputs": [
    {
     "name": "stdout",
     "output_type": "stream",
     "text": [
      "Mean Squared Error: 0.3575335619549484\n",
      "Mean Absolute Error: 0.40314012400297067\n",
      "Root Mean Squared Error: 0.5979411024130624\n",
      "R2 Score: 0.727601800641012\n",
      "Adjusted R2 Score: 0.7272493527039472\n"
     ]
    }
   ],
   "source": [
    "from sklearn.metrics import mean_squared_error, mean_absolute_error, r2_score\n",
    "import numpy as np\n",
    "mse = mean_squared_error(y_test, y_pred)\n",
    "mae = mean_absolute_error(y_test, y_pred)\n",
    "rmse = np.sqrt(mse)\n",
    "r2 = r2_score(y_test, y_pred)\n",
    "adjusted_r2 = 1 - (1 - r2) * (len(y_test) - 1) / (len(y_test) - X_test.shape[1] - 1)\n",
    "\n",
    "print(f\"Mean Squared Error: {mse}\")\n",
    "print(f\"Mean Absolute Error: {mae}\")\n",
    "print(f\"Root Mean Squared Error: {rmse}\")\n",
    "print(f\"R2 Score: {r2}\")\n",
    "print(f\"Adjusted R2 Score: {adjusted_r2}\")"
   ]
  },
  {
   "cell_type": "markdown",
   "metadata": {},
   "source": [
    "# Hyperparameter used inSVM regressor\n",
    "\n",
    "1. C (Regularization Parameter)\n",
    "2. Kernel\n",
    "3. Gamma (Kernel Coefficient for RBF, Polynomial, and Sigmoid Kernels)\n",
    "4. Degree (for Polynomial Kernel)\n",
    "5. Coef0 (for Polynomial and Sigmoid Kernels)\n",
    "6. Epsilon (for epsilon-Support Vector Regression)\n",
    "    - Definition: The epsilon parameter specifies the epsilon-tube within which no penalty is associated with the training loss function in SVR.\n",
    "\n",
    "    -Importance: Defines a margin of tolerance where no penalty is given for errors. It affects the number of support vectors used.\n",
    "\n",
    "    - Ideal Values: Typically found using cross-validation. Common values to try are [0.1, 0.2, 0.5, 0.3].\n",
    "\n",
    "    Value Range: ϵ≥0\n",
    "\n",
    "    - Interpretation:\n",
    "\n",
    "        - Low epsilon: More points are considered as support vectors, possibly overfitting.\n",
    "        - High epsilon: Fewer points are considered as support vectors, possibly underfitting.\n",
    "\n",
    "    -When to Use: Tune ϵϵ to control the sensitivity of the model to deviations.\n",
    "\n",
    "Summary of Hyperparameters:\n",
    "\n",
    "- C (Regularization Parameter): Controls the trade-off between margin maximization and error minimization. Prevents overfitting by penalizing large coefficients.\n",
    "- Kernel: Determines the transformation of input data and the shape of the decision boundary. Common kernels include linear, polynomial, RBF, and sigmoid.\n",
    "- Gamma (for RBF, Polynomial, and Sigmoid Kernels): Controls the influence of a single training example. Affects the decision boundary's smoothness.\n",
    "- Degree (for Polynomial Kernel): Sets the degree of the polynomial. Higher degrees allow for more complex decision boundaries.\n",
    "- Epsilon (ε): Specifies the epsilon-tube within which no penalty is associated with the training loss function. Affects the number of support vectors used.\n",
    "- Coef0 (for Polynomial and Sigmoid Kernels): Adjusts the influence of higher-order terms in the polynomial and sigmoid kernels.\n"
   ]
  },
  {
   "cell_type": "markdown",
   "metadata": {},
   "source": []
  },
  {
   "cell_type": "code",
   "execution_count": 2,
   "metadata": {},
   "outputs": [
    {
     "name": "stdout",
     "output_type": "stream",
     "text": [
      "Best parameters: {'C': 0.1, 'kernel': 'rbf'}\n",
      "Mean Squared Error: 0.4092977775764426\n",
      "Mean Absolute Error: 0.4306663881347529\n",
      "Root Mean Squared Error: 0.6397638451619805\n",
      "R2 Score: 0.688163603428348\n",
      "Adjusted R2 Score: 0.6877601275796381\n"
     ]
    }
   ],
   "source": [
    "from sklearn.datasets import fetch_california_housing\n",
    "from sklearn.model_selection import train_test_split, GridSearchCV\n",
    "from sklearn.svm import SVR\n",
    "from sklearn.preprocessing import StandardScaler\n",
    "from sklearn.metrics import mean_squared_error, mean_absolute_error, r2_score\n",
    "import numpy as np\n",
    "\n",
    "# Load dataset\n",
    "california_housing = fetch_california_housing()\n",
    "X = california_housing.data\n",
    "y = california_housing.target\n",
    "\n",
    "# Split data into training and test sets\n",
    "X_train, X_test, y_train, y_test = train_test_split(X, y, test_size=0.3, random_state=42)\n",
    "\n",
    "# Feature Scaling\n",
    "scaler = StandardScaler()\n",
    "X_train = scaler.fit_transform(X_train)\n",
    "X_test = scaler.transform(X_test)\n",
    "\n",
    "# Hyperparameter tuning\n",
    "param_grid = {\n",
    "    'C': [0.1],\n",
    "    # 'gamma': [1, 0.1],\n",
    "    # 'epsilon': [0.1],\n",
    "    'kernel': ['rbf'],\n",
    "    # 'degree': [2]  # Only used for poly kernel\n",
    "}\n",
    "grid_search = GridSearchCV(SVR(), param_grid, cv=5, scoring='neg_mean_squared_error')\n",
    "grid_search.fit(X_train, y_train)\n",
    "\n",
    "# Best parameters\n",
    "print(f\"Best parameters: {grid_search.best_params_}\")\n",
    "\n",
    "# Train the model with best parameters\n",
    "best_svr = grid_search.best_estimator_\n",
    "best_svr.fit(X_train, y_train)\n",
    "\n",
    "# Predict on test data\n",
    "y_pred = best_svr.predict(X_test)\n",
    "\n",
    "# Evaluate the model\n",
    "mse = mean_squared_error(y_test, y_pred)\n",
    "mae = mean_absolute_error(y_test, y_pred)\n",
    "rmse = np.sqrt(mse)\n",
    "r2 = r2_score(y_test, y_pred)\n",
    "adjusted_r2 = 1 - (1 - r2) * (len(y_test) - 1) / (len(y_test) - X_test.shape[1] - 1)\n",
    "\n",
    "print(f\"Mean Squared Error: {mse}\")\n",
    "print(f\"Mean Absolute Error: {mae}\")\n",
    "print(f\"Root Mean Squared Error: {rmse}\")\n",
    "print(f\"R2 Score: {r2}\")\n",
    "print(f\"Adjusted R2 Score: {adjusted_r2}\")\n"
   ]
  },
  {
   "cell_type": "markdown",
   "metadata": {},
   "source": [
    "- Model accuracy score : accuracy_score(y_test, y_pred)\n",
    "- check accuracy across model_accruracy(y_train, y_pred_pred) -- \n",
    "- compare check for overfitting\n",
    "    - check accuracy across model.score(x_train, y_train)\n",
    "    -model.score(X_test, y_test)\n",
    "    - if comparable no overfitting\n",
    "Compare model accuracy with null accuracy¶\n",
    "- y_test.value_counts()\n",
    "- null accuracy = max_value_count/total_value_count\n",
    "\n",
    "\n",
    "\n",
    "\n"
   ]
  },
  {
   "cell_type": "code",
   "execution_count": null,
   "metadata": {},
   "outputs": [],
   "source": []
  },
  {
   "cell_type": "markdown",
   "metadata": {},
   "source": [
    "# SVM vs logistics regression"
   ]
  },
  {
   "attachments": {
    "image.png": {
     "image/png": "[encoded data removed]"
    }
   },
   "cell_type": "markdown",
   "metadata": {},
   "source": [
    "![image.png](attachment:image.png)"
   ]
  },
  {
   "cell_type": "markdown",
   "metadata": {},
   "source": []
  }
 ],
 "metadata": {
  "kernelspec": {
   "display_name": "Python (supervised)",
   "language": "python",
   "name": "supervised"
  },
  "language_info": {
   "codemirror_mode": {
    "name": "ipython",
    "version": 3
   },
   "file_extension": ".py",
   "mimetype": "text/x-python",
   "name": "python",
   "nbconvert_exporter": "python",
   "pygments_lexer": "ipython3",
   "version": "3.12.4"
  }
 },
 "nbformat": 4,
 "nbformat_minor": 2
}
