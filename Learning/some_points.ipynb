{
 "cells": [
  {
   "cell_type": "markdown",
   "metadata": {},
   "source": [
    "# Use Case\n",
    "- Image Classification: SVM is used to classify images into different categories.\n",
    "- Text Classification: SVM is effective in text categorization tasks such as spam detection, sentiment analysis, and topic categorization.\n",
    "- Bioinformatics: SVM is used for protein classification and gene expression data analysis.\n",
    "- Handwriting Recognition: SVM is employed to recognize handwritten characters.\n",
    "- Financial Analysis: SVM is applied in credit risk analysis, fraud detection, and stock market prediction."
   ]
  },
  {
   "cell_type": "markdown",
   "metadata": {},
   "source": [
    "# Application Areas\n",
    "- Healthcare: Disease prediction and diagnosis, medical image analysis.\n",
    "- Finance: Credit scoring, fraud detection, algorithmic trading.\n",
    "- Marketing: Customer segmentation, churn prediction.\n",
    "- Manufacturing: Fault detection, quality control.\n",
    "- Social Media: Sentiment analysis, spam filtering."
   ]
  },
  {
   "cell_type": "markdown",
   "metadata": {},
   "source": [
    "# Advantages\n",
    "- Effective in High-Dimensional Spaces: SVM works well when the number of dimensions exceeds the number of samples.\n",
    "- Memory Efficient: SVM only uses a subset of training points (support vectors) in the decision function.\n",
    "- Versatile: Different kernel functions can be specified for the decision function, providing flexibility in handling different data structures.\n",
    "- Robust to Overfitting: With proper regularization, SVM can avoid overfitting, especially in high-dimensional spaces."
   ]
  },
  {
   "cell_type": "markdown",
   "metadata": {},
   "source": [
    "# Disadvantages\n",
    "- Computationally Intensive: Training an SVM can be time-consuming for large datasets, especially with complex kernel functions.\n",
    "- Choice of Kernel: The performance of SVM heavily depends on the choice of the kernel and its parameters, which require careful tuning.\n",
    "- Not Suitable for Large Datasets: SVMs are not suitable for very large datasets due to their high training time and memory consumption.\n",
    "- Interpretability: SVM models are less interpretable compared to some other models like decision trees or logistic regression."
   ]
  },
  {
   "cell_type": "markdown",
   "metadata": {},
   "source": [
    "# Sample Implementations"
   ]
  },
  {
   "cell_type": "code",
   "execution_count": 1,
   "metadata": {},
   "outputs": [
    {
     "name": "stdout",
     "output_type": "stream",
     "text": [
      "[[19  0  0]\n",
      " [ 0 13  0]\n",
      " [ 0  0 13]]\n",
      "              precision    recall  f1-score   support\n",
      "\n",
      "           0       1.00      1.00      1.00        19\n",
      "           1       1.00      1.00      1.00        13\n",
      "           2       1.00      1.00      1.00        13\n",
      "\n",
      "    accuracy                           1.00        45\n",
      "   macro avg       1.00      1.00      1.00        45\n",
      "weighted avg       1.00      1.00      1.00        45\n",
      "\n"
     ]
    }
   ],
   "source": [
    "from sklearn import datasets\n",
    "from sklearn.model_selection import train_test_split\n",
    "from sklearn.preprocessing import StandardScaler\n",
    "from sklearn.svm import SVC\n",
    "from sklearn.metrics import classification_report, confusion_matrix\n",
    "\n",
    "# Load dataset\n",
    "iris = datasets.load_iris()\n",
    "X = iris.data\n",
    "y = iris.target\n",
    "\n",
    "# Split data into training and test sets\n",
    "X_train, X_test, y_train, y_test = train_test_split(X, y, test_size=0.3, random_state=42)\n",
    "\n",
    "# Feature scaling\n",
    "scaler = StandardScaler()\n",
    "X_train = scaler.fit_transform(X_train)\n",
    "X_test = scaler.transform(X_test)\n",
    "\n",
    "# Train SVM model\n",
    "svm = SVC(kernel='rbf', C=1, gamma=0.1)\n",
    "svm.fit(X_train, y_train)\n",
    "\n",
    "# Predict on test data\n",
    "y_pred = svm.predict(X_test)\n",
    "\n",
    "# Evaluate the model\n",
    "print(confusion_matrix(y_test, y_pred))\n",
    "print(classification_report(y_test, y_pred))\n"
   ]
  },
  {
   "cell_type": "markdown",
   "metadata": {},
   "source": [
    "# Metrics Used for Evaluating SVM Models"
   ]
  },
  {
   "cell_type": "markdown",
   "metadata": {},
   "source": [
    "## Confusion Matrix\n",
    "\n",
    "- Definition: A confusion matrix is a table used to evaluate the performance of a classification model. It shows the counts of true positive (TP), - false positive (FP), true negative (TN), and false negative (FN) predictions.\n",
    "\n",
    "- Importance: Provides a comprehensive view of the performance of a classification model, including both correct and incorrect predictions.\n",
    "\n",
    "- Ideal Values: High values of TP and TN, and low values of FP and FN.\n",
    "\n",
    "- Value Range: The values are non-negative integers, depending on the dataset size.\n",
    "\n",
    "Interpretation:\n",
    "- True Positives (TP): Correctly predicted positive cases.\n",
    "- False Positives (FP): Incorrectly predicted positive cases.\n",
    "- True Negatives (TN): Correctly predicted negative cases.\n",
    "-  False Negatives (FN): Incorrectly predicted negative cases.\n",
    "\n",
    "When to Use: Always use the confusion matrix for classification problems to get a detailed understanding of the model's performance.\n",
    "\n"
   ]
  },
  {
   "cell_type": "code",
   "execution_count": 2,
   "metadata": {},
   "outputs": [
    {
     "name": "stdout",
     "output_type": "stream",
     "text": [
      "[[19  0  0]\n",
      " [ 0 13  0]\n",
      " [ 0  0 13]]\n"
     ]
    }
   ],
   "source": [
    "from sklearn.metrics import confusion_matrix\n",
    "\n",
    "y_pred = svm.predict(X_test)\n",
    "cm = confusion_matrix(y_test, y_pred)\n",
    "print(cm)\n"
   ]
  },
  {
   "cell_type": "markdown",
   "metadata": {},
   "source": [
    "## Accuracy\n",
    "- Definition: The ratio of correctly predicted observations to the total observations.\n",
    "- Accuracy=TP+TN/TP+TN+FP+FN\n",
    "- Importance: Provides an overall measure of how well the model is performing.\n",
    "- Ideal Value: Close to 1 (100%).\n",
    "- Value Range: [0, 1]\n",
    "\n",
    "Interpretation: Indicates the proportion of correct predictions out of all predictions made.\n",
    "\n",
    "When to Use: Use when the dataset is balanced or the cost of false positives and false negatives is similar."
   ]
  },
  {
   "cell_type": "code",
   "execution_count": 3,
   "metadata": {},
   "outputs": [
    {
     "name": "stdout",
     "output_type": "stream",
     "text": [
      "Accuracy: 1.0\n"
     ]
    }
   ],
   "source": [
    "from sklearn.metrics import accuracy_score\n",
    "\n",
    "accuracy = accuracy_score(y_test, y_pred)\n",
    "print(f\"Accuracy: {accuracy}\")\n"
   ]
  },
  {
   "cell_type": "markdown",
   "metadata": {},
   "source": [
    "## Precision\n",
    "- Definition: The ratio of correctly predicted positive observations to the total predicted positives.\n",
    "- Precision=TP/TP+FP\n",
    "- Importance: Indicates the accuracy of positive predictions.\n",
    "- Ideal Value: Close to 1 (100%).\n",
    "- Value Range: [0, 1]\n",
    "\n",
    "Interpretation: High precision indicates that the model has a low false positive rate.\n",
    "\n",
    "When to Use: Use when the cost of false positives is high (e.g., spam detection)."
   ]
  },
  {
   "cell_type": "code",
   "execution_count": 4,
   "metadata": {},
   "outputs": [
    {
     "name": "stdout",
     "output_type": "stream",
     "text": [
      "Precision: 1.0\n"
     ]
    }
   ],
   "source": [
    "from sklearn.metrics import precision_score\n",
    "\n",
    "precision = precision_score(y_test, y_pred, average='macro')\n",
    "print(f\"Precision: {precision}\")\n"
   ]
  },
  {
   "cell_type": "markdown",
   "metadata": {},
   "source": [
    "## Recall (Sensitivity or True Positive Rate)\n",
    "- Definition: The ratio of correctly predicted positive observations to all the observations in the actual class.\n",
    "- Recall=TP/TP+FN\n",
    "- Importance: Indicates the ability of the model to find all relevant cases within a dataset.\n",
    "- Ideal Value: Close to 1 (100%).\n",
    "- Value Range: [0, 1]\n",
    "Interpretation: High recall indicates that the model has a low false negative rate.\n",
    "\n",
    "When to Use: Use when the cost of false negatives is high (e.g., disease detection)."
   ]
  },
  {
   "cell_type": "code",
   "execution_count": 5,
   "metadata": {},
   "outputs": [
    {
     "name": "stdout",
     "output_type": "stream",
     "text": [
      "Recall: 1.0\n"
     ]
    }
   ],
   "source": [
    "from sklearn.metrics import recall_score\n",
    "\n",
    "recall = recall_score(y_test, y_pred, average='macro')\n",
    "print(f\"Recall: {recall}\")\n"
   ]
  },
  {
   "cell_type": "markdown",
   "metadata": {},
   "source": [
    "##  F1-Score\n",
    "\n",
    "- Definition: The weighted average of precision and recall.\n",
    "- F1-Score=2⋅Precision⋅RecallPrecision+Recall\n",
    "- F1-Score=2⋅Precision+RecallPrecision⋅Recall​\n",
    "\n",
    "- Importance: Provides a single metric that balances precision and recall, especially useful for imbalanced datasets.\n",
    "\n",
    "- Ideal Value: Close to 1 (100%).\n",
    "\n",
    "- Value Range: [0, 1]\n",
    "\n",
    "Interpretation: High F1-score indicates a good balance between precision and recall.\n",
    "\n",
    "When to Use: Use when both precision and recall are important for the problem at hand."
   ]
  },
  {
   "cell_type": "code",
   "execution_count": 8,
   "metadata": {},
   "outputs": [
    {
     "name": "stdout",
     "output_type": "stream",
     "text": [
      "F1-Score: 1.0\n"
     ]
    }
   ],
   "source": [
    "from sklearn.metrics import f1_score\n",
    "\n",
    "f1 = f1_score(y_test, y_pred, average='macro')\n",
    "print(f\"F1-Score: {f1}\")\n"
   ]
  },
  {
   "cell_type": "markdown",
   "metadata": {},
   "source": [
    "## ROC Curve and AUC (Area Under the Curve)\n",
    "\n",
    "- Definition: The ROC curve plots the true positive rate (recall) against the false positive rate (1-specificity) at various threshold settings. AUC measures the entire two-dimensional area underneath the ROC curve.\n",
    "\n",
    "- Importance: Provides a graphical representation of the model's performance across all classification thresholds.\n",
    "\n",
    "- Ideal Value: AUC close to 1 (100%).\n",
    "\n",
    "- Value Range: [0, 1]\n",
    "\n",
    "Interpretation: The closer the ROC curve is to the top-left corner, the better the model. A higher AUC indicates better overall performance.\n",
    "\n",
    "When to Use: Use when you need to evaluate the model's ability to distinguish between positive and negative classes across all thresholds.\n"
   ]
  },
  {
   "cell_type": "code",
   "execution_count": 16,
   "metadata": {},
   "outputs": [
    {
     "name": "stdout",
     "output_type": "stream",
     "text": [
      "(45,) [[-0.22640627  2.23073199  0.96127892]\n",
      " [ 2.22297046  1.13683975 -0.24364919]\n",
      " [-0.20848806  0.82714694  2.24437494]\n",
      " [-0.22845554  2.21856079  1.07169169]\n",
      " [-0.23088588  2.20729809  1.12615732]\n",
      " [ 2.2238635   1.17760574 -0.25369271]\n",
      " [-0.19271614  2.23738723  0.82511984]\n",
      " [-0.22997416  0.96052608  2.23410718]\n",
      " [-0.23583637  2.20720842  1.14564855]\n",
      " [-0.21439368  2.2412541   0.85006584]\n",
      " [-0.22947092  1.10756537  2.2113642 ]\n",
      " [ 2.22856018  1.15484696 -0.25100915]\n",
      " [ 2.2313992   1.14939499 -0.25167976]\n",
      " [ 2.2300977   1.15704859 -0.25242207]\n",
      " [ 2.23387197  1.07349102 -0.24161246]\n",
      " [-0.21257034  2.1931577   1.09218209]\n",
      " [-0.23712695  0.91608171  2.24564252]\n",
      " [-0.21460431  2.24180316  0.84839171]\n",
      " [-0.22374519  2.23006443  0.94769325]\n",
      " [-0.24096751  0.94089435  2.24617309]\n",
      " [ 2.23127069  1.1404695  -0.24988115]\n",
      " [-0.23428669  1.17405185  2.18666403]\n",
      " [ 2.22896471  1.15481824 -0.25125303]\n",
      " [-0.24156538  0.9888534   2.24243119]\n",
      " [-0.19544972  0.91878166  2.2116631 ]\n",
      " [-0.23440152  0.95095886  2.23921993]\n",
      " [-0.23910587  1.06849012  2.23167424]\n",
      " [-0.22949558  0.88161758  2.24470154]\n",
      " [ 2.22269921  1.17043506 -0.25121537]\n",
      " [ 2.22715115  1.16146283 -0.25160801]\n",
      " [ 2.24037841  0.99262629 -0.2397883 ]\n",
      " [ 2.20716543  0.99842915 -0.20693891]\n",
      " [-0.2166168   2.21615411  1.00371698]\n",
      " [ 2.23522842  1.11925949 -0.24904796]\n",
      " [ 2.23479515  1.08740889 -0.24416418]\n",
      " [-0.24318038  1.14315083  2.22013629]\n",
      " [-0.21425952  2.20895759  1.03553693]\n",
      " [ 2.23424552  1.13533174 -0.25097812]\n",
      " [ 2.23758441  1.08959344 -0.24672863]\n",
      " [ 2.22884654  0.98018328 -0.22673448]\n",
      " [-0.24335501  1.15263783  2.216778  ]\n",
      " [-0.19461263  2.19559016  0.99441104]\n",
      " [-0.22324793  2.20161362  1.11071427]\n",
      " [ 2.22932337  1.08053434 -0.23872752]\n",
      " [ 2.23261709  1.1160423  -0.24661064]]\n"
     ]
    },
    {
     "ename": "ValueError",
     "evalue": "multi_class must be in ('ovo', 'ovr')",
     "output_type": "error",
     "traceback": [
      "\u001b[1;31m---------------------------------------------------------------------------\u001b[0m",
      "\u001b[1;31mValueError\u001b[0m                                Traceback (most recent call last)",
      "Cell \u001b[1;32mIn[16], line 7\u001b[0m\n\u001b[0;32m      5\u001b[0m \u001b[38;5;28mprint\u001b[39m(y_test\u001b[38;5;241m.\u001b[39mshape, y_score)\n\u001b[0;32m      6\u001b[0m fpr, tpr, _ \u001b[38;5;241m=\u001b[39m roc_curve(y_test, y_score[:,\u001b[38;5;241m0\u001b[39m], pos_label\u001b[38;5;241m=\u001b[39m\u001b[38;5;241m1\u001b[39m)\n\u001b[1;32m----> 7\u001b[0m auc \u001b[38;5;241m=\u001b[39m \u001b[43mroc_auc_score\u001b[49m\u001b[43m(\u001b[49m\u001b[43my_test\u001b[49m\u001b[43m,\u001b[49m\u001b[43m \u001b[49m\u001b[43my_score\u001b[49m\u001b[43m[\u001b[49m\u001b[43m:\u001b[49m\u001b[43m,\u001b[49m\u001b[38;5;241;43m0\u001b[39;49m\u001b[43m]\u001b[49m\u001b[43m)\u001b[49m\n\u001b[0;32m      9\u001b[0m \u001b[38;5;28mprint\u001b[39m(y_test\u001b[38;5;241m.\u001b[39mshape, y_score\u001b[38;5;241m.\u001b[39mshape)\n\u001b[0;32m     11\u001b[0m plt\u001b[38;5;241m.\u001b[39mfigure()\n",
      "File \u001b[1;32mc:\\Users\\LENOVO\\Desktop\\ML project\\Supervised learning\\supervised\\Lib\\site-packages\\sklearn\\utils\\_param_validation.py:213\u001b[0m, in \u001b[0;36mvalidate_params.<locals>.decorator.<locals>.wrapper\u001b[1;34m(*args, **kwargs)\u001b[0m\n\u001b[0;32m    207\u001b[0m \u001b[38;5;28;01mtry\u001b[39;00m:\n\u001b[0;32m    208\u001b[0m     \u001b[38;5;28;01mwith\u001b[39;00m config_context(\n\u001b[0;32m    209\u001b[0m         skip_parameter_validation\u001b[38;5;241m=\u001b[39m(\n\u001b[0;32m    210\u001b[0m             prefer_skip_nested_validation \u001b[38;5;129;01mor\u001b[39;00m global_skip_validation\n\u001b[0;32m    211\u001b[0m         )\n\u001b[0;32m    212\u001b[0m     ):\n\u001b[1;32m--> 213\u001b[0m         \u001b[38;5;28;01mreturn\u001b[39;00m \u001b[43mfunc\u001b[49m\u001b[43m(\u001b[49m\u001b[38;5;241;43m*\u001b[39;49m\u001b[43margs\u001b[49m\u001b[43m,\u001b[49m\u001b[43m \u001b[49m\u001b[38;5;241;43m*\u001b[39;49m\u001b[38;5;241;43m*\u001b[39;49m\u001b[43mkwargs\u001b[49m\u001b[43m)\u001b[49m\n\u001b[0;32m    214\u001b[0m \u001b[38;5;28;01mexcept\u001b[39;00m InvalidParameterError \u001b[38;5;28;01mas\u001b[39;00m e:\n\u001b[0;32m    215\u001b[0m     \u001b[38;5;66;03m# When the function is just a wrapper around an estimator, we allow\u001b[39;00m\n\u001b[0;32m    216\u001b[0m     \u001b[38;5;66;03m# the function to delegate validation to the estimator, but we replace\u001b[39;00m\n\u001b[0;32m    217\u001b[0m     \u001b[38;5;66;03m# the name of the estimator by the name of the function in the error\u001b[39;00m\n\u001b[0;32m    218\u001b[0m     \u001b[38;5;66;03m# message to avoid confusion.\u001b[39;00m\n\u001b[0;32m    219\u001b[0m     msg \u001b[38;5;241m=\u001b[39m re\u001b[38;5;241m.\u001b[39msub(\n\u001b[0;32m    220\u001b[0m         \u001b[38;5;124mr\u001b[39m\u001b[38;5;124m\"\u001b[39m\u001b[38;5;124mparameter of \u001b[39m\u001b[38;5;124m\\\u001b[39m\u001b[38;5;124mw+ must be\u001b[39m\u001b[38;5;124m\"\u001b[39m,\n\u001b[0;32m    221\u001b[0m         \u001b[38;5;124mf\u001b[39m\u001b[38;5;124m\"\u001b[39m\u001b[38;5;124mparameter of \u001b[39m\u001b[38;5;132;01m{\u001b[39;00mfunc\u001b[38;5;241m.\u001b[39m\u001b[38;5;18m__qualname__\u001b[39m\u001b[38;5;132;01m}\u001b[39;00m\u001b[38;5;124m must be\u001b[39m\u001b[38;5;124m\"\u001b[39m,\n\u001b[0;32m    222\u001b[0m         \u001b[38;5;28mstr\u001b[39m(e),\n\u001b[0;32m    223\u001b[0m     )\n",
      "File \u001b[1;32mc:\\Users\\LENOVO\\Desktop\\ML project\\Supervised learning\\supervised\\Lib\\site-packages\\sklearn\\metrics\\_ranking.py:633\u001b[0m, in \u001b[0;36mroc_auc_score\u001b[1;34m(y_true, y_score, average, sample_weight, max_fpr, multi_class, labels)\u001b[0m\n\u001b[0;32m    626\u001b[0m         \u001b[38;5;28;01mraise\u001b[39;00m \u001b[38;5;167;01mValueError\u001b[39;00m(\n\u001b[0;32m    627\u001b[0m             \u001b[38;5;124m\"\u001b[39m\u001b[38;5;124mPartial AUC computation not available in \u001b[39m\u001b[38;5;124m\"\u001b[39m\n\u001b[0;32m    628\u001b[0m             \u001b[38;5;124m\"\u001b[39m\u001b[38;5;124mmulticlass setting, \u001b[39m\u001b[38;5;124m'\u001b[39m\u001b[38;5;124mmax_fpr\u001b[39m\u001b[38;5;124m'\u001b[39m\u001b[38;5;124m must be\u001b[39m\u001b[38;5;124m\"\u001b[39m\n\u001b[0;32m    629\u001b[0m             \u001b[38;5;124m\"\u001b[39m\u001b[38;5;124m set to `None`, received `max_fpr=\u001b[39m\u001b[38;5;132;01m{0}\u001b[39;00m\u001b[38;5;124m` \u001b[39m\u001b[38;5;124m\"\u001b[39m\n\u001b[0;32m    630\u001b[0m             \u001b[38;5;124m\"\u001b[39m\u001b[38;5;124minstead\u001b[39m\u001b[38;5;124m\"\u001b[39m\u001b[38;5;241m.\u001b[39mformat(max_fpr)\n\u001b[0;32m    631\u001b[0m         )\n\u001b[0;32m    632\u001b[0m     \u001b[38;5;28;01mif\u001b[39;00m multi_class \u001b[38;5;241m==\u001b[39m \u001b[38;5;124m\"\u001b[39m\u001b[38;5;124mraise\u001b[39m\u001b[38;5;124m\"\u001b[39m:\n\u001b[1;32m--> 633\u001b[0m         \u001b[38;5;28;01mraise\u001b[39;00m \u001b[38;5;167;01mValueError\u001b[39;00m(\u001b[38;5;124m\"\u001b[39m\u001b[38;5;124mmulti_class must be in (\u001b[39m\u001b[38;5;124m'\u001b[39m\u001b[38;5;124movo\u001b[39m\u001b[38;5;124m'\u001b[39m\u001b[38;5;124m, \u001b[39m\u001b[38;5;124m'\u001b[39m\u001b[38;5;124movr\u001b[39m\u001b[38;5;124m'\u001b[39m\u001b[38;5;124m)\u001b[39m\u001b[38;5;124m\"\u001b[39m)\n\u001b[0;32m    634\u001b[0m     \u001b[38;5;28;01mreturn\u001b[39;00m _multiclass_roc_auc_score(\n\u001b[0;32m    635\u001b[0m         y_true, y_score, labels, multi_class, average, sample_weight\n\u001b[0;32m    636\u001b[0m     )\n\u001b[0;32m    637\u001b[0m \u001b[38;5;28;01melif\u001b[39;00m y_type \u001b[38;5;241m==\u001b[39m \u001b[38;5;124m\"\u001b[39m\u001b[38;5;124mbinary\u001b[39m\u001b[38;5;124m\"\u001b[39m:\n",
      "\u001b[1;31mValueError\u001b[0m: multi_class must be in ('ovo', 'ovr')"
     ]
    }
   ],
   "source": [
    "from sklearn.metrics import roc_curve, roc_auc_score\n",
    "import matplotlib.pyplot as plt\n",
    "\n",
    "y_score = svm.decision_function(X_test)\n",
    "print(y_test.shape, y_score)\n",
    "fpr, tpr, _ = roc_curve(y_test, y_score[:,0], pos_label=1)\n",
    "auc = roc_auc_score(y_test, y_score[:,0])\n",
    "\n",
    "print(y_test.shape, y_score.shape)\n",
    "\n",
    "plt.figure()\n",
    "plt.plot(fpr, tpr, color='blue', lw=2, label='ROC curve (area = %0.2f)' % auc)\n",
    "plt.plot([0, 1], [0, 1], color='grey', lw=2, linestyle='--')\n",
    "plt.xlim([0.0, 1.0])\n",
    "plt.ylim([0.0, 1.0])\n",
    "plt.xlabel('False Positive Rate')\n",
    "plt.ylabel('True Positive Rate')\n",
    "plt.title('Receiver Operating Characteristic')\n",
    "plt.legend(loc=\"lower right\")\n",
    "plt.show()\n"
   ]
  },
  {
   "cell_type": "markdown",
   "metadata": {},
   "source": [
    "# Hyperparameters in SVM"
   ]
  },
  {
   "cell_type": "markdown",
   "metadata": {},
   "source": [
    "## C (Regularization Parameter)\n",
    "- Definition: The regularization parameter CC controls the trade-off between maximizing the margin and minimizing the classification error. A smaller CC encourages a larger margin, while a larger CC aims to classify all training examples correctly.\n",
    "- Importance: Balances the model complexity and the extent of misclassification on the training data.\n",
    "- Ideal Value: Depends on the dataset; typically found using cross-validation.\n",
    "- Value Range: C>0\n",
    "Interpretation:\n",
    "- Small CC: Larger margin, possibly more misclassifications.\n",
    "- Large CC: Smaller margin, fewer misclassifications, but may overfit.\n",
    "\n",
    "When to Use: Always tune CC to find a balance between bias and variance."
   ]
  },
  {
   "cell_type": "code",
   "execution_count": 17,
   "metadata": {},
   "outputs": [
    {
     "name": "stdout",
     "output_type": "stream",
     "text": [
      "Best C: 1\n"
     ]
    }
   ],
   "source": [
    "from sklearn.svm import SVC\n",
    "from sklearn.model_selection import GridSearchCV\n",
    "\n",
    "param_grid = {'C': [0.1, 1, 10, 100, 1000]}\n",
    "grid_search = GridSearchCV(SVC(kernel='rbf', gamma=0.1), param_grid, cv=5)\n",
    "grid_search.fit(X_train, y_train)\n",
    "print(f\"Best C: {grid_search.best_params_['C']}\")\n"
   ]
  },
  {
   "attachments": {
    "image.png": {
     "image/png": "[encoded data removed]"
    }
   },
   "cell_type": "markdown",
   "metadata": {},
   "source": [
    "## Kernel Type\n",
    "- Definition: The kernel function transforms the input data into a higher-dimensional space to find a linear separator.\n",
    "- Importance: Determines the shape of the decision boundary.\n",
    "- Common Kernels:\n",
    "![image.png](attachment:image.png)\n",
    "- Ideal Value: Depends on the dataset and the problem.\n",
    "Interpretation:\n",
    "- Linear: Best for linearly separable data.\n",
    "- Polynomial and RBF: Best for non-linearly separable data.\n",
    "- Sigmoid: Can be used but is less common.\n",
    "\n",
    "When to Use: Experiment with different kernels and use cross-validation to select the best one."
   ]
  },
  {
   "cell_type": "code",
   "execution_count": 19,
   "metadata": {},
   "outputs": [
    {
     "name": "stdout",
     "output_type": "stream",
     "text": [
      "Best kernel: rbf\n"
     ]
    }
   ],
   "source": [
    "param_grid = {'kernel': ['linear', 'poly', 'rbf', 'sigmoid']} # rbf generally used\n",
    "grid_search = GridSearchCV(SVC(C=1, gamma=0.1), param_grid, cv=5)\n",
    "grid_search.fit(X_train, y_train)\n",
    "print(f\"Best kernel: {grid_search.best_params_['kernel']}\")\n"
   ]
  },
  {
   "cell_type": "markdown",
   "metadata": {},
   "source": [
    "## Gamma (Kernel Coefficient for RBF, Polynomial, and Sigmoid Kernels)\n",
    "- Definition: Defines how far the influence of a single training example reaches. Low values mean 'far' and high values mean 'close'.\n",
    "\n",
    "- Importance: Affects the decision boundary shape.\n",
    "\n",
    "- Ideal Value: Depends on the dataset; typically found using cross-validation.\n",
    "\n",
    "- Value Range: γ>0\n",
    "Interpretation:\n",
    "- Low gamma: The model is too constrained and has a high bias.\n",
    "- High gamma: The model captures more details but may overfit.\n",
    "\n",
    "When to Use: Always tune γγ for non-linear kernels like RBF."
   ]
  },
  {
   "cell_type": "code",
   "execution_count": 20,
   "metadata": {},
   "outputs": [
    {
     "name": "stdout",
     "output_type": "stream",
     "text": [
      "Best gamma: 0.1\n"
     ]
    }
   ],
   "source": [
    "param_grid = {'gamma': [1, 0.1, 0.01, 0.001, 0.0001]}\n",
    "grid_search = GridSearchCV(SVC(kernel='rbf', C=1), param_grid, cv=5)\n",
    "grid_search.fit(X_train, y_train)\n",
    "print(f\"Best gamma: {grid_search.best_params_['gamma']}\")\n"
   ]
  },
  {
   "cell_type": "markdown",
   "metadata": {},
   "source": [
    "## Degree (for Polynomial Kernel)\n",
    "- Definition: Degree of the polynomial kernel function.\n",
    "- Importance: Controls the flexibility of the polynomial kernel.\n",
    "- Ideal Value: Typically a small integer; found using cross-validation.\n",
    "- Value Range: degree≥1degree≥1\n",
    "\n",
    "Interpretation:\n",
    "- Low degree: Simpler decision boundary.\n",
    "- High degree: More complex decision boundary, risk of overfitting.\n",
    "\n",
    "When to Use: Only relevant for the polynomial kernel. Tune using cross-validation."
   ]
  },
  {
   "cell_type": "code",
   "execution_count": 21,
   "metadata": {},
   "outputs": [
    {
     "name": "stdout",
     "output_type": "stream",
     "text": [
      "Best degree: 3\n"
     ]
    }
   ],
   "source": [
    "param_grid = {'degree': [2, 3, 4, 5]}\n",
    "grid_search = GridSearchCV(SVC(kernel='poly', C=1, gamma=0.1), param_grid, cv=5)\n",
    "grid_search.fit(X_train, y_train)\n",
    "print(f\"Best degree: {grid_search.best_params_['degree']}\")\n"
   ]
  },
  {
   "cell_type": "markdown",
   "metadata": {},
   "source": [
    "## Coef0 (for Polynomial and Sigmoid Kernels)\n",
    "\n",
    "- Definition: Independent term in kernel function. It is significant in controlling the influence of higher-order versus lower-order terms in the polynomial and sigmoid kernels.\n",
    "\n",
    "- Importance: Adjusts the model complexity for polynomial and sigmoid kernels.\n",
    "\n",
    "- Ideal Value: Typically found using cross-validation.\n",
    "\n",
    "- Value Range: Any real number.\n",
    "\n",
    "Interpretation:\n",
    "\n",
    "- Low coef0: Less influence of higher-order terms.\n",
    "- High coef0: More influence of higher-order terms.\n",
    "\n",
    "When to Use: Tune for polynomial and sigmoid kernels."
   ]
  },
  {
   "cell_type": "code",
   "execution_count": 22,
   "metadata": {},
   "outputs": [
    {
     "name": "stdout",
     "output_type": "stream",
     "text": [
      "Best coef0: 1\n"
     ]
    }
   ],
   "source": [
    "param_grid = {'coef0': [0, 0.1, 0.5, 1, 2]}\n",
    "grid_search = GridSearchCV(SVC(kernel='poly', C=1, gamma=0.1, degree=3), param_grid, cv=5)\n",
    "grid_search.fit(X_train, y_train)\n",
    "print(f\"Best coef0: {grid_search.best_params_['coef0']}\")\n"
   ]
  },
  {
   "cell_type": "markdown",
   "metadata": {},
   "source": [
    "## Probability\n",
    "\n",
    "- Definition: Whether to enable probability estimates.\n",
    "\n",
    "- Importance: Useful if you need probability estimates for your classification problem.\n",
    "\n",
    "- Ideal Value: True or False.\n",
    "\n",
    "- Value Range: True or False.\n",
    "\n",
    "Interpretation: Enables the model to output probability estimates. Adds computational overhead.\n",
    "\n",
    "When to Use: When you need probability estimates for your predictions."
   ]
  },
  {
   "cell_type": "code",
   "execution_count": 23,
   "metadata": {},
   "outputs": [],
   "source": [
    "svm = SVC(C=1, gamma=0.1, probability=True)\n",
    "svm.fit(X_train, y_train)\n",
    "y_pred_prob = svm.predict_proba(X_test)\n"
   ]
  },
  {
   "cell_type": "markdown",
   "metadata": {},
   "source": [
    "Summary\n",
    "\n",
    "Selecting and tuning hyperparameters for SVM is crucial for model performance. Use cross-validation to find the optimal values for:\n",
    "\n",
    "- C (Regularization Parameter): Balances margin maximization and misclassification minimization.\n",
    "- Kernel Type: Determines the transformation of input data into a higher-dimensional space.\n",
    "- Gamma (for RBF, Polynomial, and Sigmoid Kernels): Controls the influence radius of training examples.\n",
    "- Degree (for Polynomial Kernel): Sets the degree of the polynomial kernel function.\n",
    "- Coef0 (for Polynomial and Sigmoid Kernels): Adjusts the influence of higher-order terms.\n",
    "- Probability: Enables probability estimates for predictions.\n",
    "\n",
    "By systematically tuning these hyperparameters, you can improve the performance and robustness of your SVM model."
   ]
  },
  {
   "cell_type": "markdown",
   "metadata": {},
   "source": []
  }
 ],
 "metadata": {
  "kernelspec": {
   "display_name": "Python (supervised)",
   "language": "python",
   "name": "supervised"
  },
  "language_info": {
   "codemirror_mode": {
    "name": "ipython",
    "version": 3
   },
   "file_extension": ".py",
   "mimetype": "text/x-python",
   "name": "python",
   "nbconvert_exporter": "python",
   "pygments_lexer": "ipython3",
   "version": "3.12.4"
  }
 },
 "nbformat": 4,
 "nbformat_minor": 2
}
